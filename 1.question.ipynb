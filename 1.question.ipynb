{
 "cells": [
  {
   "cell_type": "markdown",
   "metadata": {},
   "source": [
    "# Description"
   ]
  },
  {
   "cell_type": "markdown",
   "metadata": {},
   "source": [
    "Prize-winning teams will be invited to present their models at the AAAI-2021 Workshop on AI Education - Imagining Post-COVID Education with AI - in February 2021. All competition participants are welcome to submit their write-ups to the workshop.\n",
    "\n",
    "获奖团队将被邀请在2021年2月举行的AAAI-2021人工智能教育研讨会上展示他们的模型——用人工智能想象后乔维德教育。欢迎所有参赛者向研讨会提交他们的报告。"
   ]
  },
  {
   "cell_type": "markdown",
   "metadata": {},
   "source": [
    "Think back to your favorite teacher. They motivated and inspired you to learn. And they knew your strengths and weaknesses. The lessons they taught were based on your ability. For example, teachers would make sure you understood algebra before advancing to calculus. Yet, many students don’t have access to personalized learning. In a world full of information, data scientists like you can help. Machine learning can offer a path to success for young people around the world, and you are invited to be part of this mission.\n",
    "\n",
    "回想一下你最喜欢的老师。他们激励和激励你去学习。他们知道你的长处和短处。他们教的课程是基于你的能力。例如，在学习微积分之前，老师会确保你理解代数。然而，许多学生无法获得个性化学习。在一个充满信息的世界里，像你这样的数据科学家可以提供帮助。机器学习可以为世界各地的年轻人提供一条通往成功的道路，我们邀请您参与这项任务。\n",
    "\n",
    "In 2018, 260 million children weren't attending school. At the same time, more than half of these young students didn't meet minimum reading and math standards. Education was already in a tough place when COVID-19 forced most countries to temporarily close schools. This further delayed learning opportunities and intellectual development. The equity gaps in every country could grow wider. We need to re-think the current education system in terms of attendance, engagement, and individualized attention.\n",
    "\n",
    "2018年，有2.6亿儿童没有上学。同时，这些年轻学生中有一半以上没有达到最低阅读和数学标准。当COVID-19迫使大多数国家暂时关闭学校时，教育已经陷入困境。这进一步推迟了学习机会和智力发展。每个国家的股权差距都可能扩大。我们需要从出勤率、参与度和个性化的注意力方面重新思考当前的教育体制。\n",
    "\n",
    "Riiid Labs, an AI solutions provider delivering creative disruption to the education market, empowers global education players to rethink traditional ways of learning leveraging AI. With a strong belief in equal opportunity in education, Riiid launched an AI tutor based on deep-learning algorithms in 2017 that attracted more than one million South Korean students. This year, the company released EdNet, the world’s largest open database for AI education containing more than 100 million student interactions.\n",
    "\n",
    "Riiid Labs是一家为教育市场提供创造性颠覆的人工智能解决方案提供商，它授权全球教育参与者重新思考利用人工智能学习的传统方式。怀着对教育机会均等的坚定信念，Riiid于2017年推出了一款基于深度学习算法的AI导师，吸引了超过100万名韩国学生。今年，该公司发布了EdNet，这是世界上最大的人工智能教育开放数据库，包含超过1亿个学生互动。\n",
    "\n",
    "In this competition, your challenge is to create algorithms for \"Knowledge Tracing,\" the modeling of student knowledge over time. The goal is to accurately predict how students will perform on future interactions. You will pair your machine learning skills using Riiid’s EdNet data.\n",
    "\n",
    "在这个竞赛中，你的挑战是创建“知识追踪”的算法，即随着时间推移对学生知识的建模。目标是准确预测学生在未来互动中的表现。您将使用Riiid的EdNet数据对您的机器学习技能进行配对。\n",
    "\n",
    "Your innovative algorithms will help tackle global challenges in education. If successful, it’s possible that any student with an Internet connection can enjoy the benefits of a personalized learning experience, regardless of where they live. With your participation, we can build a better and more equitable model for education in a post-COVID-19 world.\n",
    "\n",
    "你的创新算法将有助于应对全球教育挑战。如果成功的话，任何有互联网连接的学生都有可能享受到个性化学习体验的好处，而不管他们住在哪里。有了你们的参与，我们可以在后COVID-19世界建立一个更好、更公平的教育模式。"
   ]
  },
  {
   "cell_type": "markdown",
   "metadata": {},
   "source": [
    "# 评价指标"
   ]
  },
  {
   "cell_type": "markdown",
   "metadata": {},
   "source": [
    "AUC"
   ]
  },
  {
   "cell_type": "markdown",
   "metadata": {},
   "source": [
    "# 时间"
   ]
  },
  {
   "cell_type": "markdown",
   "metadata": {},
   "source": [
    "- December 31 , 2020 - Entry deadline. You must accept the competition rules before this date in order to compete.\n",
    "\n",
    "- 2020年12月31日——报名截止日期。你必须在此日期之前接受比赛规则才能参加比赛。\n",
    "\n",
    "- December 31, 2020 - Team Merger deadline. This is the last day participants may join or merge teams.\n",
    "\n",
    "- 2020年12月31日-团队合并截止日期。这是参与者加入或合并团队的最后一天。\n",
    "\n",
    "- January 7, 2021 - Final submission deadline.\n",
    "\n",
    "- 2021年1月7日-最终提交截止日期。\n",
    "\n",
    "- All deadlines are at 11:59 PM UTC on the corresponding day unless otherwise noted. The competition organizers reserve the right to update the contest timeline if they deem it necessary.\n",
    "\n",
    "- 除非另有说明，所有截止日期均为相应日期的UTC晚上11:59。如有需要，比赛组织者保留更新比赛时间表的权利。"
   ]
  },
  {
   "cell_type": "markdown",
   "metadata": {},
   "source": [
    "# 要求"
   ]
  },
  {
   "cell_type": "markdown",
   "metadata": {},
   "source": [
    "This is a Code Competition\n",
    "Submissions to this competition must be made through Notebooks. Please note that for this competition training is not required in Notebooks.\n",
    "\n",
    "In order for the \"Submit to Competition\" button to be active after a commit, the following conditions must be met:\n",
    "\n",
    "CPU Notebook <= 9 hours run-time\n",
    "GPU Notebook <= 9 hours run-time\n",
    "TPU Notebook <= 3 hours run-time\n",
    "Freely & publicly available external data is allowed, including pre-trained models\n",
    "Submission file must be named submission.csv\n",
    "Please see the Code Competition FAQ for more information on how to submit."
   ]
  },
  {
   "cell_type": "markdown",
   "metadata": {},
   "source": [
    "这是一场代码竞赛\n",
    "\n",
    "参赛作品必须通过笔记本电脑提交。请注意，本次比赛不需要在笔记本中进行培训。\n",
    "\n",
    "为了在提交后激活“提交到竞争对手”按钮，必须满足以下条件：\n",
    "\n",
    "CPU笔记本<=9小时运行时间\n",
    "\n",
    "GPU笔记本<=9小时运行时间\n",
    "\n",
    "TPU笔记本<=3小时运行时间\n",
    "\n",
    "允许免费和公开的外部数据，包括预先培训的模型\n",
    "\n",
    "提交文件必须命名提交.csv\n",
    "\n",
    "有关如何提交的详细信息，请参阅代码竞争常见问题解答。"
   ]
  },
  {
   "cell_type": "markdown",
   "metadata": {},
   "source": [
    "# 数据描述"
   ]
  },
  {
   "cell_type": "markdown",
   "metadata": {},
   "source": [
    "Tailoring education to a student's ability level is one of the many valuable things an AI tutor can do. Your challenge in this competition is a version of that overall task; you will predict whether students are able to answer their next questions correctly. You'll be provided with the same sorts of information a complete education app would have: that student's historic performance, the performance of other students on the same question, metadata about the question itself, and more.\n",
    "\n",
    "根据学生的能力水平调整教育是人工智能导师可以做的许多有价值的事情之一。你在这次比赛中的挑战是整个任务的一个版本；你将预测学生是否能够正确回答下一个问题。你将得到与一个完整的教育应用程序相同的信息：该学生的历史表现，其他学生在同一问题上的表现，关于问题本身的元数据，等等。\n",
    "\n",
    "This is a time-series code competition, you will receive test set data and make predictions with Kaggle's time-series API. Please be sure to review the Time-series API Details section closely.\n",
    "\n",
    "这是一个时间序列代码竞赛，您将收到测试集数据并使用Kaggle的时间序列API进行预测。请仔细查看API的详细信息。"
   ]
  },
  {
   "cell_type": "markdown",
   "metadata": {},
   "source": [
    "## train.csv"
   ]
  },
  {
   "cell_type": "markdown",
   "metadata": {},
   "source": [
    "- **row_id** : (int64) ID code for the row.\n",
    "\n",
    "- **row_id**:（int64）行的id代码。\n"
   ]
  },
  {
   "cell_type": "markdown",
   "metadata": {},
   "source": [
    "- **timestamp**: (int64) the time in milliseconds between this user interaction and the first event completion from that user.\n",
    "\n",
    "- **timestamp**：（int64）此用户交互与该用户完成第一个事件之间的时间（毫秒）。"
   ]
  },
  {
   "cell_type": "markdown",
   "metadata": {},
   "source": [
    "\n",
    "- **user_id**: (int32) ID code for the user.\n",
    "\n",
    "- **user_id**:（int32）用户的id代码。\n"
   ]
  },
  {
   "cell_type": "markdown",
   "metadata": {},
   "source": [
    "- **content_id**: (int16) ID code for the user interaction\n",
    "\n",
    "- **content_id**：（int16）用于用户交互的id代码"
   ]
  },
  {
   "cell_type": "markdown",
   "metadata": {},
   "source": [
    "- **content_type_id**: (int8) 0 if the event was a question being posed to the user, 1 if the event was the user watching a lecture.\n",
    "- **content_type_id**:（int8）如果事件是向用户提出的问题，则为0；如果事件是用户观看讲座，则为1。\n"
   ]
  },
  {
   "cell_type": "markdown",
   "metadata": {},
   "source": [
    "- **task_container_id**: (int16) Id code for the batch of questions or lectures. For example, a user might see three questions in a row before seeing the explanations for any of them. Those three would all share a task_container_id.\n",
    "- **task_container_id**：（int16）一批问题或讲座的id代码。例如，用户可能会在看到其中任何一个问题的解释之前连续看到三个问题。这三个人将共享一个任务容器。"
   ]
  },
  {
   "cell_type": "markdown",
   "metadata": {},
   "source": [
    "- **user_answer**: (int8) the user's answer to the question, if any. Read -1 as null, for lectures.\n",
    "- **user_answer**：（int8）用户对问题的回答（如果有）。读-1为空，用于讲课。"
   ]
  },
  {
   "cell_type": "markdown",
   "metadata": {},
   "source": [
    "- **answered_correctly**: (int8) if the user responded correctly. Read -1 as null, for lectures.\n",
    "- **answered_correctly**：（int8）如果用户回答正确。读-1为空，用于讲课。"
   ]
  },
  {
   "cell_type": "markdown",
   "metadata": {},
   "source": [
    "- **prior_question_elapsed_time**: (float32) The average time in milliseconds it took a user to answer each question in the previous question bundle, ignoring any lectures in between. Is null for a user's first question bundle or lecture. Note that the time is the average time a user took to solve each question in the previous bundle.\n",
    "- **prior_question_elapsed_time**：（float32）用户回答前一个问题包中的每个问题所用的平均时间（毫秒），忽略其间的任何讲座。对于用户的第一个问题束或讲座，为空。请注意，时间是用户解决上一个捆绑包中每个问题所用的平均时间。\n"
   ]
  },
  {
   "cell_type": "markdown",
   "metadata": {},
   "source": [
    "- **prior_question_had_explanation**: (bool) Whether or not the user saw an explanation and the correct response(s) after answering the previous question bundle, ignoring any lectures in between. The value is shared across a single question bundle, and is null for a user's first question bundle or lecture. Typically the first several questions a user sees were part of an onboarding diagnostic test where they did not get any feedback.\n",
    "- **prior_question_had_explanation**：（bool）用户在回答前一个问题后是否看到了解释和正确的回答，忽略了其间的任何讲座。该值在单个问题束中共享，对于用户的第一个问题束或讲座，该值为空。通常，用户看到的前几个问题是入职诊断测试的一部分，他们没有得到任何反馈。\n"
   ]
  },
  {
   "cell_type": "markdown",
   "metadata": {},
   "source": [
    "## questions.csv\n",
    "\n",
    "metadata for the questions posed to users.\n",
    "\n",
    "向用户提出的问题的元数据。"
   ]
  },
  {
   "cell_type": "markdown",
   "metadata": {},
   "source": [
    "question_id: foreign key for the train/test content_id column, when the content type is question (0).\n",
    "\n",
    "问题_id：当内容类型为问题（0）时，列车/测试内容_id列的外键。\n",
    "\n",
    "bundle_id: code for which questions are served together.\n",
    "\n",
    "bundle_id：一起提供问题的代码。\n",
    "\n",
    "correct_answer: the answer to the question. Can be compared with the train user_answer column to check if the user was right.\n",
    "\n",
    "正确答案：问题的答案。可与火车用户_答案栏进行比较，以检查用户是否正确。\n",
    "\n",
    "\n",
    "part: the relevant section of the TOEIC test.\n",
    "\n",
    "部分：托业考试相关章节。\n",
    "\n",
    "tags: one or more detailed tag codes for the question. The meaning of the tags will not be provided, but these codes are sufficient for clustering the questions together.\n",
    "\n",
    "标签：问题的一个或多个详细的标签代码。不会提供标签的含义，但这些代码足以将问题聚集在一起。"
   ]
  },
  {
   "cell_type": "markdown",
   "metadata": {},
   "source": [
    "## lectures.csv\n",
    "metadata for the lectures watched by users as they progress in their education.\n",
    "\n",
    "用户在学习过程中观看的讲座的元数据。"
   ]
  },
  {
   "cell_type": "markdown",
   "metadata": {},
   "source": [
    "\n",
    "lecture_id: foreign key for the train/test content_id column, when the content type is lecture (1).\n",
    "\n",
    "授课编号：当内容类型为讲座（1）时，培训/测试内容_id列的外键。\n",
    "\n",
    "part: top level category code for the lecture.\n",
    "\n",
    "部分：讲座的顶级类别代码。\n",
    "\n",
    "tag: one tag codes for the lecture. The meaning of the tags will not be provided, but these codes are sufficient for clustering the lectures together.\n",
    "\n",
    "标签：一个标签代码为讲座。标签的含义将不提供，但这些代码足以将讲座聚集在一起。\n",
    "\n",
    "type_of: brief description of the core purpose of the lecture\n",
    "\n",
    "类型：简要描述讲座的核心目的\n"
   ]
  },
  {
   "cell_type": "markdown",
   "metadata": {},
   "source": []
  },
  {
   "cell_type": "markdown",
   "metadata": {},
   "source": [
    "## example_test_rows.csv \n",
    "\n",
    "Three sample groups of the test set data as it will be delivered by the time-series API. The format is largely the same as train.csv. There are two different columns that mirror what information the AI tutor actually has available at any given time, but with the user interactions grouped together for the sake of API performance rather than strictly showing information for a single user at a time. Some users will appear in the hidden test set that have NOT been presented in the train set, emulating the challenge of quickly adapting to modeling new arrivals to a website.\n",
    "\n",
    "测试集数据的三个样本组，因为它将由时间序列API交付。格式与火车.csv. 有两个不同的列反映了AI导师在任何给定时间内实际拥有的信息，但是为了API的性能，用户交互被组合在一起，而不是严格地一次只显示一个用户的信息。一些用户将出现在隐藏的测试集中，而这些测试集并没有显示在训练集中，他们模拟了快速适应将新用户建模到网站的挑战。"
   ]
  },
  {
   "cell_type": "markdown",
   "metadata": {},
   "source": [
    "prior_group_responses (string) provides all of the user_answer entries for previous group in a string representation of a list in the first row of the group. All other rows in each group are null. If you are using Python, you will likely want to call eval on the non-null rows. Some rows may be null, or empty lists.\n",
    "\n",
    "previor_group_responses（string）以组第一行列表的字符串表示形式提供前一组的所有用户_答案条目。每组中的所有其他行都为空。如果您使用的是Python，那么可能需要对非空行调用eval。某些行可能为空，或为空列表。\n",
    "\n",
    "prior_group_answers_correct (string) provides all the answered_correctly field for previous group, with the same format and caveats as prior_group_responses. Some rows may be null, or empty lists.\n",
    "\n",
    "previor_group_answers_correct（string）为前一组提供所有已回答的正确字段，格式和注意事项与先前的组_回答相同。某些行可能为空，或为空列表。"
   ]
  },
  {
   "cell_type": "markdown",
   "metadata": {},
   "source": []
  },
  {
   "cell_type": "code",
   "execution_count": null,
   "metadata": {},
   "outputs": [],
   "source": []
  },
  {
   "cell_type": "code",
   "execution_count": null,
   "metadata": {},
   "outputs": [],
   "source": []
  },
  {
   "cell_type": "code",
   "execution_count": null,
   "metadata": {},
   "outputs": [],
   "source": []
  },
  {
   "cell_type": "markdown",
   "metadata": {},
   "source": [
    "Time-series API Details\n",
    "\n",
    "时间序列API详细信息\n",
    "\n",
    "Refer to the starter notebook for an example of how to complete a submission. The time-series API has changed somewhat from previous competitions!\n",
    "\n",
    "有关如何完成提交的示例，请参阅初学者笔记本。时间序列API与以前的竞争有所不同！\n",
    "\n",
    "You should not try to submit anything for the rows that contain lectures.\n",
    "\n",
    "你不应该试图为包含讲座的行提交任何内容。\n",
    "\n",
    "The API provides user interactions groups in the order in which they occurred. Each group will contain interactions from many different users, but no more than one task_container_id of questions from any single user. Each group has between 1 and 1000 users.\n",
    "\n",
    "API按用户交互组发生的顺序提供它们。每个组将包含来自多个不同用户的交互，但任何单个用户的问题最多只能包含一个任务容器。每个组有1到1000个用户。\n",
    "\n",
    "Expect to see roughly 2.5 million questions in the hidden test set.\n",
    "\n",
    "预计在隐藏测试集中会看到大约250万个问题。\n",
    "\n",
    "The API will load up to 1 GB of the test set data in memory after initialization. The initialization step (env.iter_test()) will require meaningfully more memory than that; we recommend you do not load your model until after making that call. The API will also consume roughly 15 minutes of runtime for loading and serving the data, but will also obfuscate the true runtime for all submissions.\n",
    "\n",
    "API初始化后会在内存1中设置加载测试数据。初始化步骤(环境试验（））将需要比这多得多的内存；我们建议您在调用之前不要加载模型。API还将花费大约15分钟的运行时间来加载和提供数据，但也会混淆所有提交的真正运行时。\n",
    "\n",
    "The API loads the data using the types specified above (int32 for user_id, int8 for content_type_id, etc).\n",
    "\n",
    "API使用上面指定的类型加载数据（int32表示用户_id，int8表示content_type_id，等等）。"
   ]
  },
  {
   "cell_type": "markdown",
   "metadata": {},
   "source": []
  },
  {
   "cell_type": "markdown",
   "metadata": {},
   "source": []
  },
  {
   "cell_type": "markdown",
   "metadata": {},
   "source": []
  },
  {
   "cell_type": "markdown",
   "metadata": {},
   "source": []
  },
  {
   "cell_type": "markdown",
   "metadata": {},
   "source": []
  },
  {
   "cell_type": "markdown",
   "metadata": {},
   "source": []
  },
  {
   "cell_type": "markdown",
   "metadata": {},
   "source": []
  },
  {
   "cell_type": "markdown",
   "metadata": {},
   "source": []
  }
 ],
 "metadata": {
  "kernelspec": {
   "display_name": "Python 3",
   "language": "python",
   "name": "python3"
  },
  "language_info": {
   "codemirror_mode": {
    "name": "ipython",
    "version": 3
   },
   "file_extension": ".py",
   "mimetype": "text/x-python",
   "name": "python",
   "nbconvert_exporter": "python",
   "pygments_lexer": "ipython3",
   "version": "3.7.3"
  },
  "toc": {
   "base_numbering": 1,
   "nav_menu": {},
   "number_sections": true,
   "sideBar": true,
   "skip_h1_title": false,
   "title_cell": "Table of Contents",
   "title_sidebar": "Contents",
   "toc_cell": false,
   "toc_position": {},
   "toc_section_display": true,
   "toc_window_display": true
  }
 },
 "nbformat": 4,
 "nbformat_minor": 2
}
